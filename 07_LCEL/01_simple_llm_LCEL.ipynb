{
 "cells": [
  {
   "cell_type": "markdown",
   "metadata": {},
   "source": [
    "# Build a Simple LLM Application with LCEL\n",
    "---\n",
    "In this quickstart we'll show you how to build a simple LLM application with LangChain. This application will translate text from English into another language. This is a relatively simple LLM application - it's just a single LLM call plus some prompting. Still, this is a great way to get started with LangChain - a lot of features can be built with just some prompting and an LLM call!"
   ]
  },
  {
   "cell_type": "markdown",
   "metadata": {},
   "source": [
    "## LCEL stands for LangChain Expression Language.\n",
    "\n",
    " - It is a declarative, functional programming interface used in LangChain to build and compose chains (pipelines) in a more readable and modular way — without writing custom Python classes or logic.\n",
    "\n",
    "- Think of LCEL like Unix pipes (|) for LLM workflows.\n",
    "It allows you to build logic like:\n",
    "\n",
    "chain = prompt | llm | output_parser\n",
    "\n",
    "- Each part is a component:\n",
    "\n",
    "prompt: formats your input\n",
    "\n",
    "llm: runs the language model\n",
    "\n",
    "output_parser: parses the model output\n",
    "\n",
    "All of these are LCEL components, and the | operator connects them into a pipeline.\n",
    "\n",
    "- LCEL is like A universal language inside LangChain for connecting components like prompts, models, output parsers, retrievers, etc., using a clean, pipe-like syntax (|)."
   ]
  },
  {
   "cell_type": "code",
   "execution_count": null,
   "metadata": {},
   "outputs": [],
   "source": [
    "\n",
    "\n",
    "import os\n",
    "from dotenv import load_dotenv\n",
    "load_dotenv()\n",
    "\n",
    "import openai\n",
    "openai.api_key=os.getenv(\"OPENAI_API_KEY\")\n",
    "\n",
    "\n",
    "# Open Source models--Llama3,Gemma2,mistral--Groq\n",
    "\n",
    "groq_api_key=os.getenv(\"GROQ_API_KEY\")"
   ]
  },
  {
   "cell_type": "markdown",
   "metadata": {},
   "source": [
    "* Groq is a hardware and software company that designs ultra-fast AI inference chips and systems. It's known for developing high-performance AI accelerators that are used to run large language models (LLMs) and other machine learning workloads at extremely low latency"
   ]
  },
  {
   "cell_type": "code",
   "execution_count": null,
   "metadata": {},
   "outputs": [],
   "source": [
    "from langchain_openai import ChatOpenAI\n",
    "from langchain_groq import ChatGroq\n",
    "\n",
    "model=ChatGroq(model=\"deepseek-r1-distill-llama-70b\",groq_api_key=groq_api_key)\n",
    "model"
   ]
  },
  {
   "cell_type": "code",
   "execution_count": null,
   "metadata": {},
   "outputs": [],
   "source": [
    "# Whenever we chat with LLMs we should specify which message is provided by the human being \n",
    "# and which message is the instruction  -> system message\n",
    "\n",
    "from langchain_core.messages import HumanMessage,SystemMessage\n",
    "\n",
    "\n",
    "messages=[\n",
    "    SystemMessage(content=\"Translate the following from English to japanese\"),\n",
    "    HumanMessage(content=\"Hello How are you?\")\n",
    "]\n",
    "\n",
    "result=model.invoke(messages)"
   ]
  },
  {
   "cell_type": "code",
   "execution_count": null,
   "metadata": {},
   "outputs": [],
   "source": [
    "result\n",
    "# AIMessage means that the ouput is a response from the LLM model"
   ]
  },
  {
   "cell_type": "code",
   "execution_count": null,
   "metadata": {},
   "outputs": [],
   "source": [
    "print(result.content)"
   ]
  },
  {
   "cell_type": "markdown",
   "metadata": {},
   "source": [
    "### ✅ To Extract Only the Final Answer:\n",
    "\n",
    "1. import re\n",
    "This imports Python's Regular Expressions module — re is used for finding and manipulating patterns in text (like removing tags).\n",
    "\n",
    "---\n",
    "2. re.sub(pattern, replacement, string, flags=...)\n",
    "This function searches for all parts of a string that match a pattern and replaces them with something else.\n",
    "\n",
    "pattern: What to find → we give it a regex pattern to match <think>...</think>\n",
    "\n",
    "replacement: What to replace it with → we use an empty string \"\" (means \"remove it\")\n",
    "\n",
    "string: The input string → result.content (LLM’s full output)\n",
    "\n",
    "flags=re.DOTALL: This tells the regex to treat newlines (\\n) as normal characters, so it can match multi-line <think>...</think> blocks\n",
    "\n",
    "---\n",
    "\n",
    "3. r\"<think>.*?</think>\"\n",
    "This is the regex pattern:\n",
    "\n",
    "<think>: matches the literal starting tag\n",
    "\n",
    ".*?: matches anything inside (lazy, so it stops at the first </think>)\n",
    "\n",
    "</think>: matches the closing tag\n",
    "\n",
    "So the pattern matches everything between <think> and </think>, including the tags themselves.\n",
    "\n",
    "---\n",
    "4. .strip()\n",
    "After replacing the <think>...</think> part with an empty string, we use .strip() to remove any extra spaces or newlines at the start or end."
   ]
  },
  {
   "cell_type": "code",
   "execution_count": null,
   "metadata": {},
   "outputs": [],
   "source": [
    "import re\n",
    "\n",
    "cleaned_output = re.sub(r\"<think>.*?</think>\", \"\", result.content, flags=re.DOTALL).strip()\n",
    "print(cleaned_output)\n"
   ]
  },
  {
   "cell_type": "code",
   "execution_count": null,
   "metadata": {},
   "outputs": [],
   "source": [
    "from langchain_core.output_parsers import StrOutputParser\n",
    "\n",
    "# StrOutputParser used to for displaying only the response coming from LLM model\n",
    "parser=StrOutputParser()\n",
    "parser.invoke(result)"
   ]
  },
  {
   "cell_type": "markdown",
   "metadata": {},
   "source": [
    "## Using LCEL\n",
    "- To chain the components"
   ]
  },
  {
   "cell_type": "code",
   "execution_count": null,
   "metadata": {},
   "outputs": [],
   "source": [
    "# Chaning means one after the other(eg: chain of thoufgt models)\n",
    "\n",
    "chain=model|parser\n",
    "chain.invoke(messages)"
   ]
  },
  {
   "cell_type": "code",
   "execution_count": null,
   "metadata": {},
   "outputs": [],
   "source": [
    "### Prompt Templates\n",
    "from langchain_core.prompts import ChatPromptTemplate\n",
    "\n",
    "generic_template=\"Trnaslate the following into {language}:\"\n",
    "\n",
    "prompt=ChatPromptTemplate.from_messages(\n",
    "    [(\"system\",generic_template),(\"user\",\"{text}\")]\n",
    ")\n",
    "\n"
   ]
  },
  {
   "cell_type": "code",
   "execution_count": null,
   "metadata": {},
   "outputs": [],
   "source": [
    "result=prompt.invoke({\"language\":\"French\",\"text\":\"Hello\"})"
   ]
  },
  {
   "cell_type": "code",
   "execution_count": null,
   "metadata": {},
   "outputs": [],
   "source": [
    "result.to_messages()"
   ]
  },
  {
   "cell_type": "code",
   "execution_count": null,
   "metadata": {},
   "outputs": [],
   "source": [
    "##Chaining together components with LCEL\n",
    "\n",
    "chain=prompt|model|parser\n",
    "chain.invoke({\"language\":\"French\",\"text\":\"Hello\"})"
   ]
  }
 ],
 "metadata": {
  "kernelspec": {
   "display_name": "Python 3",
   "language": "python",
   "name": "python3"
  },
  "language_info": {
   "codemirror_mode": {
    "name": "ipython",
    "version": 3
   },
   "file_extension": ".py",
   "mimetype": "text/x-python",
   "name": "python",
   "nbconvert_exporter": "python",
   "pygments_lexer": "ipython3",
   "version": "3.10.18"
  }
 },
 "nbformat": 4,
 "nbformat_minor": 2
}
